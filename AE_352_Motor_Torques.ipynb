{
  "metadata": {
    "kernelspec": {
      "name": "python",
      "display_name": "Python (Pyodide)",
      "language": "python"
    },
    "language_info": {
      "codemirror_mode": {
        "name": "python",
        "version": 3
      },
      "file_extension": ".py",
      "mimetype": "text/x-python",
      "name": "python",
      "nbconvert_exporter": "python",
      "pygments_lexer": "ipython3",
      "version": "3.8"
    }
  },
  "nbformat_minor": 4,
  "nbformat": 4,
  "cells": [
    {
      "cell_type": "code",
      "source": "import numpy as np\n\ndef calculate_motor_torques(I, alpha, w):\n    \"\"\"\n    Parameters:\n    - I: List or array containing moments of inertia [I1, I2, I3].\n    - alpha: List or array containing angular accelerations [alpha1, alpha2, alpha3].\n    - w: List or array containing angular velocities [w1, w2, w3].\n    - T: List or array containing motor torques [T1, T2, T3].\n    \"\"\"\n    T = []\n    for i in range(3):\n        T_i = I[i] * alpha[i] - w[(i + 1) % 3] * w[(i + 2) % 3] * (I[(i + 1) % 3] - I[(i + 2) % 3])\n        T.append(T_i)\n    \n    return T\n\n#Example\nI = [0.1, 0.2, 0.15]\nalpha = [2.0, 1.5, 1.0]\nw = [100, 120, 80]\n\nmotor_torques = calculate_motor_torques(I, alpha, w)\nprint(\"Motor Torques:\", motor_torques)\n\n\n",
      "metadata": {
        "trusted": true
      },
      "outputs": [
        {
          "name": "stdout",
          "text": "Motor Torques: [-479.8000000000002, -399.6999999999999, 1200.15]\n",
          "output_type": "stream"
        }
      ],
      "execution_count": 11
    },
    {
      "cell_type": "code",
      "source": "",
      "metadata": {
        "trusted": true
      },
      "outputs": [],
      "execution_count": null
    }
  ]
}