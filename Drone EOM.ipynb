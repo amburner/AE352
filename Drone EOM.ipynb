{
 "cells": [
  {
   "cell_type": "code",
   "execution_count": 2,
   "id": "161defb8-fb2a-49b1-830a-c44293a5a361",
   "metadata": {},
   "outputs": [
    {
     "data": {
      "text/plain": [
       "'T1 = np.array([0,0,100]).T\\nT2 = np.array([0,0,100]).T\\nT3 = np.array([0,0,100]).T\\nT4 = np.array([0,0,150]).T\\n\\nderive_eom(0,0,0,0,0,0,T1,T2,T3,T4)'"
      ]
     },
     "execution_count": 2,
     "metadata": {},
     "output_type": "execute_result"
    }
   ],
   "source": [
    "import numpy as np\n",
    "\n",
    "#Simplified Model\n",
    "g = -9.81\n",
    "m = 10\n",
    "r = .25\n",
    "prop_h = .05\n",
    "\n",
    "Ixx = 6\n",
    "Iyy = 6\n",
    "Izz = 6\n",
    "Ixy = 6\n",
    "Ixz = 6\n",
    "Iyz = 6\n",
    "\n",
    "I = np.array([[Ixx,Ixy,Ixz],\n",
    "             [Ixy,Iyy,Iyz],\n",
    "             [Ixz,Iyz,Izz]])\n",
    "\n",
    "def Fg(m):\n",
    "    return np.array([0,0,m*g])\n",
    "\n",
    "def derive_eom(x,y,z,phi,theta,psi,T1,T2,T3,T4):\n",
    "    #position of center of mass of drone\n",
    "    r_com = np.array([x,y,z])\n",
    "    \n",
    "    # Rotation matrices\n",
    "    Rx = np.array([[1, 0, 0],\n",
    "                   [0, np.cos(phi), -np.sin(phi)],\n",
    "                   [0, np.sin(phi), np.cos(phi)]])\n",
    "\n",
    "    Ry = np.array([[np.cos(theta), 0, np.sin(theta)],\n",
    "                   [0, 1, 0],\n",
    "                   [-np.sin(theta), 0, np.cos(theta)]])\n",
    "\n",
    "    Rz = np.array([[np.cos(psi), -np.sin(psi), 0],\n",
    "                   [np.sin(psi), np.cos(psi), 0],\n",
    "                   [0, 0, 1]])\n",
    "    \n",
    "    R = Rx@Ry@Rz\n",
    "    \n",
    "    #position of propellers relative to drone c.o.m.\n",
    "    r_T1_com = np.array([1,0,0]).T@R\n",
    "    r_T2_com = np.array([0,1,0]).T@R\n",
    "    r_T3_com = np.array([-1,0,0]).T@R\n",
    "    r_T4_com = np.array([0,-1,0]).T@R\n",
    "    \n",
    "    #position of propellers\n",
    "    r_T1 = r*(np.array([1,0,0]).T@R) + r_com + np.array([0,0,prop_h])\n",
    "    r_T2 = r*(np.array([0,1,0]).T@R) + r_com + np.array([0,0,prop_h])\n",
    "    r_T3 = r*(np.array([-1,0,0]).T@R) + r_com + np.array([0,0,prop_h])\n",
    "    r_T4 = r*(np.array([0,-1,0]).T@R) + r_com + np.array([0,0,prop_h])\n",
    "    \n",
    "    #N2L\n",
    "    F_net = Fg(m) + T1 + T2 + T3 + T4\n",
    "    a = F_net/m\n",
    "    \n",
    "    t_net = np.cross(r_T1_com,T1) + np.cross(r_T2_com,T2) + np.cross(r_T3_com,T3) + np.cross(r_T4_com,T4)\n",
    "    \n",
    "    alpha = np.linalg.inv(I)@t_net\n",
    "    \n",
    "    u_dot_dot = np.vstack((a,alpha))\n",
    "    \n",
    "    return u_dot_dot\n",
    "    "
   ]
  },
  {
   "cell_type": "code",
   "execution_count": null,
   "id": "d46340ff-312f-4498-870d-28e87c816f7d",
   "metadata": {},
   "outputs": [],
   "source": []
  }
 ],
 "metadata": {
  "kernelspec": {
   "display_name": "Python 3 (ipykernel)",
   "language": "python",
   "name": "python3"
  },
  "language_info": {
   "codemirror_mode": {
    "name": "ipython",
    "version": 3
   },
   "file_extension": ".py",
   "mimetype": "text/x-python",
   "name": "python",
   "nbconvert_exporter": "python",
   "pygments_lexer": "ipython3",
   "version": "3.10.9"
  }
 },
 "nbformat": 4,
 "nbformat_minor": 5
}
